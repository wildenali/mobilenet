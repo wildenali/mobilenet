{
 "cells": [
  {
   "cell_type": "code",
   "execution_count": 1,
   "metadata": {},
   "outputs": [],
   "source": [
    "import numpy as np\n",
    "import tensorflow as tf\n",
    "from tensorflow import keras\n",
    "from tensorflow.keras.layers import Dense, Activation\n",
    "from tensorflow.keras.optimizers import Adam\n",
    "from tensorflow.keras.metrics import categorical_crossentropy\n",
    "from tensorflow.keras.preprocessing.image import ImageDataGenerator\n",
    "from tensorflow.keras.preprocessing import image\n",
    "from tensorflow.keras.models import Model\n",
    "from tensorflow.keras.applications import imagenet_utils\n",
    "from sklearn.metrics import confusion_matrix\n",
    "import itertools\n",
    "import os\n",
    "import shutil\n",
    "import random\n",
    "import matplotlib.pyplot as plt\n",
    "import cv2\n",
    "%matplotlib inline"
   ]
  },
  {
   "cell_type": "markdown",
   "metadata": {},
   "source": [
    "Check the GPU"
   ]
  },
  {
   "cell_type": "code",
   "execution_count": 2,
   "metadata": {},
   "outputs": [],
   "source": [
    "# physical_devices = tf.config.experimental.list_physical_devices('GPU')\n",
    "# print(\"Num GPUs Available: \", len(physical_devices))\n",
    "# tf.config.experimental.set_memory_growth(physical_devices[0], True)"
   ]
  },
  {
   "cell_type": "code",
   "execution_count": 3,
   "metadata": {},
   "outputs": [],
   "source": [
    "mobile = tf.keras.applications.mobilenet.MobileNet()"
   ]
  },
  {
   "cell_type": "code",
   "execution_count": 4,
   "metadata": {},
   "outputs": [],
   "source": [
    "def prepare_image(file):\n",
    "    # img_path = 'data/MobileNet-samples/'\n",
    "    # img = image.load_img(file, target_size=(224, 224))\n",
    "    img = file\n",
    "    img_array = image.img_to_array(img)\n",
    "    img_array_expanded_dims = np.expand_dims(img_array, axis=0)\n",
    "    return tf.keras.applications.mobilenet.preprocess_input(img_array_expanded_dims)"
   ]
  },
  {
   "cell_type": "code",
   "execution_count": 5,
   "metadata": {},
   "outputs": [
    {
     "name": "stdout",
     "output_type": "stream",
     "text": [
      "WARNING:tensorflow:Model was constructed with shape (None, 224, 224, 3) for input Tensor(\"input_1:0\", shape=(None, 224, 224, 3), dtype=float32), but it was called on an input with incompatible shape (None, 480, 640, 3).\n",
      "[[('n04404412', 'television', 0.251554), ('n04005630', 'prison', 0.051773634), ('n04152593', 'screen', 0.033663813), ('n02977058', 'cash_machine', 0.031973816), ('n03291819', 'envelope', 0.03077242)]]\n",
      "[[('n04404412', 'television', 0.18136458), ('n03291819', 'envelope', 0.054514788), ('n04152593', 'screen', 0.052026037), ('n03529860', 'home_theater', 0.047343437), ('n03782006', 'monitor', 0.02696226)]]\n",
      "[[('n04404412', 'television', 0.184063), ('n03291819', 'envelope', 0.04531118), ('n04005630', 'prison', 0.038678315), ('n03529860', 'home_theater', 0.028069347), ('n04152593', 'screen', 0.027768005)]]\n",
      "[[('n04404412', 'television', 0.15678611), ('n03291819', 'envelope', 0.054714415), ('n04152593', 'screen', 0.051323958), ('n03782006', 'monitor', 0.029472869), ('n03529860', 'home_theater', 0.026843835)]]\n",
      "[[('n04404412', 'television', 0.19333924), ('n04152593', 'screen', 0.056016747), ('n03291819', 'envelope', 0.040764883), ('n03782006', 'monitor', 0.036643848), ('n03529860', 'home_theater', 0.033974465)]]\n",
      "[[('n04404412', 'television', 0.17938635), ('n03291819', 'envelope', 0.043346133), ('n04152593', 'screen', 0.042576876), ('n02977058', 'cash_machine', 0.035295587), ('n03529860', 'home_theater', 0.032229442)]]\n",
      "[[('n04404412', 'television', 0.15253787), ('n03291819', 'envelope', 0.0536379), ('n04152593', 'screen', 0.036429603), ('n02977058', 'cash_machine', 0.034496497), ('n03529860', 'home_theater', 0.03216332)]]\n",
      "[[('n04404412', 'television', 0.17866242), ('n03291819', 'envelope', 0.0603863), ('n04152593', 'screen', 0.04345542), ('n02977058', 'cash_machine', 0.034081966), ('n04005630', 'prison', 0.031780127)]]\n",
      "[[('n04404412', 'television', 0.18196642), ('n03291819', 'envelope', 0.051505644), ('n04152593', 'screen', 0.03448502), ('n03529860', 'home_theater', 0.03330342), ('n04005630', 'prison', 0.029836057)]]\n",
      "[[('n04404412', 'television', 0.20672664), ('n03291819', 'envelope', 0.054190744), ('n02977058', 'cash_machine', 0.035308424), ('n03761084', 'microwave', 0.03337059), ('n04152593', 'screen', 0.031452157)]]\n",
      "[[('n04404412', 'television', 0.21396697), ('n03291819', 'envelope', 0.045740474), ('n04152593', 'screen', 0.044632025), ('n03529860', 'home_theater', 0.034055825), ('n03782006', 'monitor', 0.026166)]]\n",
      "[[('n04404412', 'television', 0.2271632), ('n04152593', 'screen', 0.04464553), ('n03529860', 'home_theater', 0.03356062), ('n03291819', 'envelope', 0.033348087), ('n03782006', 'monitor', 0.030874811)]]\n",
      "[[('n04404412', 'television', 0.18400705), ('n04152593', 'screen', 0.044917107), ('n03291819', 'envelope', 0.042312477), ('n03529860', 'home_theater', 0.0335729), ('n03782006', 'monitor', 0.029151123)]]\n",
      "[[('n04404412', 'television', 0.2656707), ('n02977058', 'cash_machine', 0.03551239), ('n03529860', 'home_theater', 0.033367965), ('n04152593', 'screen', 0.03308407), ('n03291819', 'envelope', 0.032145724)]]\n",
      "[[('n04404412', 'television', 0.19088323), ('n04152593', 'screen', 0.04419868), ('n02977058', 'cash_machine', 0.035149254), ('n03291819', 'envelope', 0.033795323), ('n03529860', 'home_theater', 0.033750184)]]\n",
      "[[('n04404412', 'television', 0.17967115), ('n03291819', 'envelope', 0.054548524), ('n04152593', 'screen', 0.05017928), ('n03529860', 'home_theater', 0.036098137), ('n04005630', 'prison', 0.030592997)]]\n",
      "[[('n04404412', 'television', 0.17347924), ('n03291819', 'envelope', 0.05247059), ('n04152593', 'screen', 0.050817773), ('n03782006', 'monitor', 0.036735978), ('n03529860', 'home_theater', 0.034582835)]]\n",
      "[[('n04404412', 'television', 0.17951821), ('n03291819', 'envelope', 0.046677034), ('n03529860', 'home_theater', 0.037254795), ('n04152593', 'screen', 0.03580665), ('n03761084', 'microwave', 0.03356163)]]\n",
      "[[('n04404412', 'television', 0.22359276), ('n03291819', 'envelope', 0.059296176), ('n04152593', 'screen', 0.036408767), ('n03529860', 'home_theater', 0.030280499), ('n03761084', 'microwave', 0.024574922)]]\n",
      "[[('n04404412', 'television', 0.18368727), ('n03291819', 'envelope', 0.050181497), ('n04152593', 'screen', 0.042578287), ('n03529860', 'home_theater', 0.035258487), ('n03782006', 'monitor', 0.03355778)]]\n",
      "[[('n04404412', 'television', 0.21671791), ('n03291819', 'envelope', 0.052133866), ('n04152593', 'screen', 0.042944986), ('n03529860', 'home_theater', 0.034499057), ('n02977058', 'cash_machine', 0.03325428)]]\n",
      "[[('n04404412', 'television', 0.19179296), ('n03291819', 'envelope', 0.05316979), ('n04152593', 'screen', 0.047959033), ('n03529860', 'home_theater', 0.036672063), ('n03782006', 'monitor', 0.031509552)]]\n",
      "[[('n04404412', 'television', 0.16399094), ('n03291819', 'envelope', 0.04937446), ('n04152593', 'screen', 0.0354311), ('n03529860', 'home_theater', 0.03225317), ('n04005630', 'prison', 0.026529102)]]\n",
      "[[('n04404412', 'television', 0.22628513), ('n03291819', 'envelope', 0.050390474), ('n03529860', 'home_theater', 0.04132324), ('n04152593', 'screen', 0.03746985), ('n03782006', 'monitor', 0.02442557)]]\n",
      "[[('n04404412', 'television', 0.23780517), ('n04152593', 'screen', 0.04568566), ('n03291819', 'envelope', 0.039053246), ('n03529860', 'home_theater', 0.029639436), ('n04005630', 'prison', 0.029521039)]]\n",
      "[[('n04404412', 'television', 0.23251365), ('n03291819', 'envelope', 0.048769545), ('n04152593', 'screen', 0.04358951), ('n03529860', 'home_theater', 0.033597708), ('n04005630', 'prison', 0.03212042)]]\n",
      "[[('n04404412', 'television', 0.19286029), ('n03291819', 'envelope', 0.0508677), ('n04152593', 'screen', 0.04179828), ('n03529860', 'home_theater', 0.03806176), ('n04590129', 'window_shade', 0.03050614)]]\n",
      "[[('n04404412', 'television', 0.23508137), ('n04152593', 'screen', 0.052635066), ('n03291819', 'envelope', 0.04702742), ('n03529860', 'home_theater', 0.03797994), ('n03782006', 'monitor', 0.034402728)]]\n",
      "[[('n04404412', 'television', 0.21886274), ('n03291819', 'envelope', 0.060226098), ('n04152593', 'screen', 0.039125714), ('n03529860', 'home_theater', 0.031680737), ('n04005630', 'prison', 0.028792156)]]\n",
      "[[('n04404412', 'television', 0.21264617), ('n04152593', 'screen', 0.045252107), ('n03291819', 'envelope', 0.037521414), ('n03529860', 'home_theater', 0.03484883), ('n03782006', 'monitor', 0.03116432)]]\n",
      "[[('n04404412', 'television', 0.19450566), ('n03291819', 'envelope', 0.05839186), ('n04152593', 'screen', 0.051797785), ('n03529860', 'home_theater', 0.03264855), ('n04005630', 'prison', 0.027767349)]]\n",
      "[[('n04404412', 'television', 0.18336536), ('n03291819', 'envelope', 0.058366157), ('n04152593', 'screen', 0.04370256), ('n03529860', 'home_theater', 0.030156579), ('n03782006', 'monitor', 0.027578795)]]\n",
      "[[('n04404412', 'television', 0.16815673), ('n03291819', 'envelope', 0.04873411), ('n04152593', 'screen', 0.037894953), ('n04005630', 'prison', 0.036210727), ('n03529860', 'home_theater', 0.034655444)]]\n",
      "[[('n04404412', 'television', 0.19316304), ('n03291819', 'envelope', 0.05284542), ('n04152593', 'screen', 0.039814375), ('n04005630', 'prison', 0.03567231), ('n03529860', 'home_theater', 0.028186185)]]\n",
      "[[('n04404412', 'television', 0.2441718), ('n04152593', 'screen', 0.046381), ('n03529860', 'home_theater', 0.03819382), ('n03291819', 'envelope', 0.037443567), ('n04005630', 'prison', 0.026685167)]]\n",
      "[[('n04404412', 'television', 0.24293822), ('n03291819', 'envelope', 0.04081192), ('n04152593', 'screen', 0.03905268), ('n03529860', 'home_theater', 0.031360727), ('n02977058', 'cash_machine', 0.030758204)]]\n",
      "[[('n04404412', 'television', 0.18804133), ('n03291819', 'envelope', 0.070147), ('n04152593', 'screen', 0.05240167), ('n03529860', 'home_theater', 0.038168352), ('n03782006', 'monitor', 0.03211239)]]\n",
      "[[('n04404412', 'television', 0.26963547), ('n04152593', 'screen', 0.049442507), ('n03291819', 'envelope', 0.041157693), ('n03529860', 'home_theater', 0.034018464), ('n03782006', 'monitor', 0.026679443)]]\n",
      "[[('n04404412', 'television', 0.25304157), ('n03291819', 'envelope', 0.05189759), ('n04152593', 'screen', 0.04447583), ('n03529860', 'home_theater', 0.03391967), ('n03761084', 'microwave', 0.023886804)]]\n",
      "[[('n04404412', 'television', 0.18505813), ('n03291819', 'envelope', 0.054656304), ('n04152593', 'screen', 0.04276412), ('n03529860', 'home_theater', 0.026684279), ('n04005630', 'prison', 0.024527503)]]\n",
      "[[('n04404412', 'television', 0.17088948), ('n03529860', 'home_theater', 0.03891844), ('n04152593', 'screen', 0.03515758), ('n03291819', 'envelope', 0.034410283), ('n02977058', 'cash_machine', 0.03251726)]]\n",
      "[[('n04404412', 'television', 0.19308484), ('n03291819', 'envelope', 0.05509292), ('n04152593', 'screen', 0.0509429), ('n03782006', 'monitor', 0.034907106), ('n02977058', 'cash_machine', 0.034549534)]]\n",
      "[[('n04404412', 'television', 0.13625766), ('n04152593', 'screen', 0.064732075), ('n03782006', 'monitor', 0.04200924), ('n03529860', 'home_theater', 0.041553207), ('n03291819', 'envelope', 0.031055901)]]\n",
      "[[('n04404412', 'television', 0.15721384), ('n04152593', 'screen', 0.05341591), ('n03529860', 'home_theater', 0.04098546), ('n03291819', 'envelope', 0.03021629), ('n04005630', 'prison', 0.0262576)]]\n",
      "[[('n04404412', 'television', 0.17775334), ('n04152593', 'screen', 0.05488938), ('n03529860', 'home_theater', 0.039910432), ('n02977058', 'cash_machine', 0.025378946), ('n04005630', 'prison', 0.024038034)]]\n",
      "[[('n04404412', 'television', 0.19757959), ('n04152593', 'screen', 0.06789846), ('n03529860', 'home_theater', 0.04537767), ('n04005630', 'prison', 0.036763523), ('n04070727', 'refrigerator', 0.024779374)]]\n",
      "[[('n04404412', 'television', 0.16514412), ('n04152593', 'screen', 0.07107052), ('n03529860', 'home_theater', 0.043543052), ('n04005630', 'prison', 0.032658692), ('n03782006', 'monitor', 0.031388063)]]\n"
     ]
    }
   ],
   "source": [
    "vid = cv2.VideoCapture(0)\n",
    "\n",
    "while True:\n",
    "    # Capture the video frame\n",
    "    # by frame\n",
    "    ret, frame = vid.read()\n",
    "\n",
    "    preprocessed_image = prepare_image(frame)\n",
    "    predictions = mobile.predict(preprocessed_image)\n",
    "    results = imagenet_utils.decode_predictions(predictions)    # top five\n",
    "    print(results)\n",
    "\n",
    "    # Display the resulting frame\n",
    "    cv2.imshow('frame', frame)\n",
    "\n",
    "    # the 'q' button is set as the\n",
    "    # quitting button you may use any\n",
    "    # desired button of your choice\n",
    "    if cv2.waitKey(1) & 0xFF == ord('q'):\n",
    "        break\n",
    "\n",
    "# After the loop release the cap object\n",
    "vid.release()\n",
    "# Destroy all the windows\n",
    "cv2.destroyAllWindows()"
   ]
  }
 ],
 "metadata": {
  "kernelspec": {
   "display_name": "env",
   "language": "python",
   "name": "env"
  },
  "language_info": {
   "codemirror_mode": {
    "name": "ipython",
    "version": 3
   },
   "file_extension": ".py",
   "mimetype": "text/x-python",
   "name": "python",
   "nbconvert_exporter": "python",
   "pygments_lexer": "ipython3",
   "version": "3.7.5"
  },
  "orig_nbformat": 4,
  "vscode": {
   "interpreter": {
    "hash": "0cf7aaef0d98b92963dc761097559c484019b433529bfcd46227797ff43bc27b"
   }
  }
 },
 "nbformat": 4,
 "nbformat_minor": 2
}
